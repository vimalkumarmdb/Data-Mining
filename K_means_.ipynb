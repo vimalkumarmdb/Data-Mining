{
 "cells": [
  {
   "cell_type": "markdown",
   "metadata": {
    "colab_type": "text",
    "id": "YsFbLqqRWu5w"
   },
   "source": [
    "# Data mining ======== Lab=========== K-means"
   ]
  },
  {
   "cell_type": "code",
   "execution_count": 1,
   "metadata": {
    "colab": {},
    "colab_type": "code",
    "id": "Pf9BRmupW8S4"
   },
   "outputs": [],
   "source": [
    "import pandas as pd\n",
    "import numpy as np\n",
    "import matplotlib.pyplot as plt\n",
    "import seaborn as sn"
   ]
  },
  {
   "cell_type": "code",
   "execution_count": 2,
   "metadata": {
    "colab": {},
    "colab_type": "code",
    "id": "5VCrGjhVZA-u"
   },
   "outputs": [],
   "source": [
    "df = pd.read_csv('Mall_Customers.csv')"
   ]
  },
  {
   "cell_type": "code",
   "execution_count": 3,
   "metadata": {
    "colab": {
     "base_uri": "https://localhost:8080/",
     "height": 204
    },
    "colab_type": "code",
    "id": "zFBUa3HTaBG3",
    "outputId": "43bb8cde-0471-41c9-a4ce-a247fb722158"
   },
   "outputs": [
    {
     "data": {
      "text/html": [
       "<div>\n",
       "<style scoped>\n",
       "    .dataframe tbody tr th:only-of-type {\n",
       "        vertical-align: middle;\n",
       "    }\n",
       "\n",
       "    .dataframe tbody tr th {\n",
       "        vertical-align: top;\n",
       "    }\n",
       "\n",
       "    .dataframe thead th {\n",
       "        text-align: right;\n",
       "    }\n",
       "</style>\n",
       "<table border=\"1\" class=\"dataframe\">\n",
       "  <thead>\n",
       "    <tr style=\"text-align: right;\">\n",
       "      <th></th>\n",
       "      <th>CustomerID</th>\n",
       "      <th>Genre</th>\n",
       "      <th>Age</th>\n",
       "      <th>Annual Income (k$)</th>\n",
       "      <th>Spending Score (1-100)</th>\n",
       "    </tr>\n",
       "  </thead>\n",
       "  <tbody>\n",
       "    <tr>\n",
       "      <th>0</th>\n",
       "      <td>1</td>\n",
       "      <td>Male</td>\n",
       "      <td>19</td>\n",
       "      <td>15</td>\n",
       "      <td>39</td>\n",
       "    </tr>\n",
       "    <tr>\n",
       "      <th>1</th>\n",
       "      <td>2</td>\n",
       "      <td>Male</td>\n",
       "      <td>21</td>\n",
       "      <td>15</td>\n",
       "      <td>81</td>\n",
       "    </tr>\n",
       "    <tr>\n",
       "      <th>2</th>\n",
       "      <td>3</td>\n",
       "      <td>Female</td>\n",
       "      <td>20</td>\n",
       "      <td>16</td>\n",
       "      <td>6</td>\n",
       "    </tr>\n",
       "    <tr>\n",
       "      <th>3</th>\n",
       "      <td>4</td>\n",
       "      <td>Female</td>\n",
       "      <td>23</td>\n",
       "      <td>16</td>\n",
       "      <td>77</td>\n",
       "    </tr>\n",
       "    <tr>\n",
       "      <th>4</th>\n",
       "      <td>5</td>\n",
       "      <td>Female</td>\n",
       "      <td>31</td>\n",
       "      <td>17</td>\n",
       "      <td>40</td>\n",
       "    </tr>\n",
       "  </tbody>\n",
       "</table>\n",
       "</div>"
      ],
      "text/plain": [
       "   CustomerID   Genre  Age  Annual Income (k$)  Spending Score (1-100)\n",
       "0           1    Male   19                  15                      39\n",
       "1           2    Male   21                  15                      81\n",
       "2           3  Female   20                  16                       6\n",
       "3           4  Female   23                  16                      77\n",
       "4           5  Female   31                  17                      40"
      ]
     },
     "execution_count": 3,
     "metadata": {},
     "output_type": "execute_result"
    }
   ],
   "source": [
    "df.head()"
   ]
  },
  {
   "cell_type": "code",
   "execution_count": 4,
   "metadata": {
    "colab": {
     "base_uri": "https://localhost:8080/",
     "height": 204
    },
    "colab_type": "code",
    "id": "TQ9y14ogaC6g",
    "outputId": "03d842b9-8e8d-40ec-cf02-be482e1845b7"
   },
   "outputs": [
    {
     "data": {
      "text/html": [
       "<div>\n",
       "<style scoped>\n",
       "    .dataframe tbody tr th:only-of-type {\n",
       "        vertical-align: middle;\n",
       "    }\n",
       "\n",
       "    .dataframe tbody tr th {\n",
       "        vertical-align: top;\n",
       "    }\n",
       "\n",
       "    .dataframe thead th {\n",
       "        text-align: right;\n",
       "    }\n",
       "</style>\n",
       "<table border=\"1\" class=\"dataframe\">\n",
       "  <thead>\n",
       "    <tr style=\"text-align: right;\">\n",
       "      <th></th>\n",
       "      <th>CustomerID</th>\n",
       "      <th>Genre</th>\n",
       "      <th>Age</th>\n",
       "      <th>Annual Income (k$)</th>\n",
       "      <th>Spending Score (1-100)</th>\n",
       "    </tr>\n",
       "  </thead>\n",
       "  <tbody>\n",
       "    <tr>\n",
       "      <th>195</th>\n",
       "      <td>196</td>\n",
       "      <td>Female</td>\n",
       "      <td>35</td>\n",
       "      <td>120</td>\n",
       "      <td>79</td>\n",
       "    </tr>\n",
       "    <tr>\n",
       "      <th>196</th>\n",
       "      <td>197</td>\n",
       "      <td>Female</td>\n",
       "      <td>45</td>\n",
       "      <td>126</td>\n",
       "      <td>28</td>\n",
       "    </tr>\n",
       "    <tr>\n",
       "      <th>197</th>\n",
       "      <td>198</td>\n",
       "      <td>Male</td>\n",
       "      <td>32</td>\n",
       "      <td>126</td>\n",
       "      <td>74</td>\n",
       "    </tr>\n",
       "    <tr>\n",
       "      <th>198</th>\n",
       "      <td>199</td>\n",
       "      <td>Male</td>\n",
       "      <td>32</td>\n",
       "      <td>137</td>\n",
       "      <td>18</td>\n",
       "    </tr>\n",
       "    <tr>\n",
       "      <th>199</th>\n",
       "      <td>200</td>\n",
       "      <td>Male</td>\n",
       "      <td>30</td>\n",
       "      <td>137</td>\n",
       "      <td>83</td>\n",
       "    </tr>\n",
       "  </tbody>\n",
       "</table>\n",
       "</div>"
      ],
      "text/plain": [
       "     CustomerID   Genre  Age  Annual Income (k$)  Spending Score (1-100)\n",
       "195         196  Female   35                 120                      79\n",
       "196         197  Female   45                 126                      28\n",
       "197         198    Male   32                 126                      74\n",
       "198         199    Male   32                 137                      18\n",
       "199         200    Male   30                 137                      83"
      ]
     },
     "execution_count": 4,
     "metadata": {},
     "output_type": "execute_result"
    }
   ],
   "source": [
    "df.tail()"
   ]
  },
  {
   "cell_type": "code",
   "execution_count": 5,
   "metadata": {},
   "outputs": [],
   "source": [
    "df = df.iloc[:, [3, 4]]"
   ]
  },
  {
   "cell_type": "code",
   "execution_count": 6,
   "metadata": {},
   "outputs": [],
   "source": [
    "import copy\n",
    "old_df = copy.deepcopy(df)"
   ]
  },
  {
   "cell_type": "markdown",
   "metadata": {
    "colab_type": "text",
    "id": "Gb785OAjrqjY"
   },
   "source": [
    "### Choose random k"
   ]
  },
  {
   "cell_type": "code",
   "execution_count": 7,
   "metadata": {},
   "outputs": [],
   "source": [
    "def intial_centroids(df,k =2):\n",
    "    mydf1 = df\n",
    "    min = mydf1.min()\n",
    "    max = mydf1.max()\n",
    "    col = mydf1.shape[1]\n",
    "    center = {\n",
    "        i+1 :[np.random.randint(min[j],max[j]) for j in range (df.shape[1]) ]\n",
    "        for i in range(k)\n",
    "          }\n",
    "    return center"
   ]
  },
  {
   "cell_type": "code",
   "execution_count": 8,
   "metadata": {},
   "outputs": [
    {
     "data": {
      "text/plain": [
       "{1: [44, 21], 2: [81, 63], 3: [28, 42], 4: [117, 69], 5: [135, 51]}"
      ]
     },
     "execution_count": 8,
     "metadata": {},
     "output_type": "execute_result"
    }
   ],
   "source": [
    "centroids = intial_centroids(df,k =5)\n",
    "old_centroids = copy.deepcopy(centroids)\n",
    "centroids"
   ]
  },
  {
   "cell_type": "markdown",
   "metadata": {},
   "source": [
    "### Colormap"
   ]
  },
  {
   "cell_type": "code",
   "execution_count": 9,
   "metadata": {},
   "outputs": [],
   "source": [
    "def cmap():\n",
    "    c_code =[ '#e6194b', '#3cb44b', '#ffe119', '#4363d8', '#f58231', '#911eb4',\n",
    "             '#46f0f0', '#f032e6', '#bcf60c', '#fabebe', '#008080', '#e6beff', \n",
    "             '#9a6324','#fffac8', '#800000', '#aaffc3', '#808000', '#ffd8b1', \n",
    "             '#000075', '#808080', '#ffffff', '#000000']\n",
    "    num = len(c_code)\n",
    "    key = [i for i in range(num)]\n",
    "    Cmap = dict(zip(key,c_code))\n",
    "    return Cmap"
   ]
  },
  {
   "cell_type": "code",
   "execution_count": 10,
   "metadata": {},
   "outputs": [
    {
     "data": {
      "text/plain": [
       "{0: '#e6194b',\n",
       " 1: '#3cb44b',\n",
       " 2: '#ffe119',\n",
       " 3: '#4363d8',\n",
       " 4: '#f58231',\n",
       " 5: '#911eb4',\n",
       " 6: '#46f0f0',\n",
       " 7: '#f032e6',\n",
       " 8: '#bcf60c',\n",
       " 9: '#fabebe',\n",
       " 10: '#008080',\n",
       " 11: '#e6beff',\n",
       " 12: '#9a6324',\n",
       " 13: '#fffac8',\n",
       " 14: '#800000',\n",
       " 15: '#aaffc3',\n",
       " 16: '#808000',\n",
       " 17: '#ffd8b1',\n",
       " 18: '#000075',\n",
       " 19: '#808080',\n",
       " 20: '#ffffff',\n",
       " 21: '#000000'}"
      ]
     },
     "execution_count": 10,
     "metadata": {},
     "output_type": "execute_result"
    }
   ],
   "source": [
    "cmap = cmap()\n",
    "cmap"
   ]
  },
  {
   "cell_type": "code",
   "execution_count": 11,
   "metadata": {},
   "outputs": [],
   "source": [
    "def distance(df,centroids):\n",
    "    for i in centroids.keys():\n",
    "        df['distance_from_{}'.format(i)] = (np.sqrt((df['Annual Income (k$)']-centroids[i][0])**2\n",
    "                                                    +(df['Spending Score (1-100)']-centroids[i][1])**2))\n",
    "    centroid_distance_cols = ['distance_from_{}'.format(i) for i in centroids.keys()]\n",
    "    df['closest'] = df.loc[:,centroid_distance_cols].idxmin(axis=1,skipna=True)\n",
    "    df['closest'] = df['closest'].map(lambda x: int(x.lstrip('distance_from')))\n",
    "    df['color'] = df['closest'].map(lambda x: cmap[x])\n",
    "    return df"
   ]
  },
  {
   "cell_type": "code",
   "execution_count": 12,
   "metadata": {},
   "outputs": [
    {
     "data": {
      "text/html": [
       "<div>\n",
       "<style scoped>\n",
       "    .dataframe tbody tr th:only-of-type {\n",
       "        vertical-align: middle;\n",
       "    }\n",
       "\n",
       "    .dataframe tbody tr th {\n",
       "        vertical-align: top;\n",
       "    }\n",
       "\n",
       "    .dataframe thead th {\n",
       "        text-align: right;\n",
       "    }\n",
       "</style>\n",
       "<table border=\"1\" class=\"dataframe\">\n",
       "  <thead>\n",
       "    <tr style=\"text-align: right;\">\n",
       "      <th></th>\n",
       "      <th>Annual Income (k$)</th>\n",
       "      <th>Spending Score (1-100)</th>\n",
       "      <th>distance_from_1</th>\n",
       "      <th>distance_from_2</th>\n",
       "      <th>distance_from_3</th>\n",
       "      <th>distance_from_4</th>\n",
       "      <th>distance_from_5</th>\n",
       "      <th>closest</th>\n",
       "      <th>color</th>\n",
       "    </tr>\n",
       "  </thead>\n",
       "  <tbody>\n",
       "    <tr>\n",
       "      <th>0</th>\n",
       "      <td>15</td>\n",
       "      <td>39</td>\n",
       "      <td>34.132096</td>\n",
       "      <td>70.228199</td>\n",
       "      <td>13.341664</td>\n",
       "      <td>106.320271</td>\n",
       "      <td>120.598507</td>\n",
       "      <td>3</td>\n",
       "      <td>#4363d8</td>\n",
       "    </tr>\n",
       "    <tr>\n",
       "      <th>1</th>\n",
       "      <td>15</td>\n",
       "      <td>81</td>\n",
       "      <td>66.640828</td>\n",
       "      <td>68.410526</td>\n",
       "      <td>41.109610</td>\n",
       "      <td>102.703457</td>\n",
       "      <td>123.693169</td>\n",
       "      <td>3</td>\n",
       "      <td>#4363d8</td>\n",
       "    </tr>\n",
       "    <tr>\n",
       "      <th>2</th>\n",
       "      <td>16</td>\n",
       "      <td>6</td>\n",
       "      <td>31.764760</td>\n",
       "      <td>86.452299</td>\n",
       "      <td>37.947332</td>\n",
       "      <td>119.037809</td>\n",
       "      <td>127.224212</td>\n",
       "      <td>1</td>\n",
       "      <td>#3cb44b</td>\n",
       "    </tr>\n",
       "    <tr>\n",
       "      <th>3</th>\n",
       "      <td>16</td>\n",
       "      <td>77</td>\n",
       "      <td>62.609903</td>\n",
       "      <td>66.490601</td>\n",
       "      <td>37.000000</td>\n",
       "      <td>101.316336</td>\n",
       "      <td>121.807225</td>\n",
       "      <td>3</td>\n",
       "      <td>#4363d8</td>\n",
       "    </tr>\n",
       "    <tr>\n",
       "      <th>4</th>\n",
       "      <td>17</td>\n",
       "      <td>40</td>\n",
       "      <td>33.015148</td>\n",
       "      <td>68.007353</td>\n",
       "      <td>11.180340</td>\n",
       "      <td>104.120123</td>\n",
       "      <td>118.511603</td>\n",
       "      <td>3</td>\n",
       "      <td>#4363d8</td>\n",
       "    </tr>\n",
       "  </tbody>\n",
       "</table>\n",
       "</div>"
      ],
      "text/plain": [
       "   Annual Income (k$)  Spending Score (1-100)  distance_from_1  \\\n",
       "0                  15                      39        34.132096   \n",
       "1                  15                      81        66.640828   \n",
       "2                  16                       6        31.764760   \n",
       "3                  16                      77        62.609903   \n",
       "4                  17                      40        33.015148   \n",
       "\n",
       "   distance_from_2  distance_from_3  distance_from_4  distance_from_5  \\\n",
       "0        70.228199        13.341664       106.320271       120.598507   \n",
       "1        68.410526        41.109610       102.703457       123.693169   \n",
       "2        86.452299        37.947332       119.037809       127.224212   \n",
       "3        66.490601        37.000000       101.316336       121.807225   \n",
       "4        68.007353        11.180340       104.120123       118.511603   \n",
       "\n",
       "   closest    color  \n",
       "0        3  #4363d8  \n",
       "1        3  #4363d8  \n",
       "2        1  #3cb44b  \n",
       "3        3  #4363d8  \n",
       "4        3  #4363d8  "
      ]
     },
     "execution_count": 12,
     "metadata": {},
     "output_type": "execute_result"
    }
   ],
   "source": [
    "df = distance(df,centroids)\n",
    "df.head()"
   ]
  },
  {
   "cell_type": "code",
   "execution_count": 13,
   "metadata": {},
   "outputs": [],
   "source": [
    "def new_centroids(k):\n",
    "    for i in centroids.keys():\n",
    "        centroids[i][1] = np.mean(df[df['closest'] == i]['Annual Income (k$)'])\n",
    "        centroids[i][1] = np.mean(df[df['closest'] == i]['Spending Score (1-100)'])\n",
    "    return k"
   ]
  },
  {
   "cell_type": "markdown",
   "metadata": {},
   "source": [
    "# Convergence condation    "
   ]
  },
  {
   "cell_type": "code",
   "execution_count": 14,
   "metadata": {},
   "outputs": [],
   "source": [
    "while True:\n",
    "    closet_centroids = df['closest'].copy(deep = True)\n",
    "    centroids =new_centroids(centroids)\n",
    "    df  = distance(df,centroids)\n",
    "    if closet_centroids.equals(df['closest']):\n",
    "        break"
   ]
  },
  {
   "cell_type": "code",
   "execution_count": 15,
   "metadata": {},
   "outputs": [],
   "source": [
    "df = distance(df,centroids)"
   ]
  },
  {
   "cell_type": "code",
   "execution_count": 16,
   "metadata": {},
   "outputs": [
    {
     "data": {
      "text/html": [
       "<div>\n",
       "<style scoped>\n",
       "    .dataframe tbody tr th:only-of-type {\n",
       "        vertical-align: middle;\n",
       "    }\n",
       "\n",
       "    .dataframe tbody tr th {\n",
       "        vertical-align: top;\n",
       "    }\n",
       "\n",
       "    .dataframe thead th {\n",
       "        text-align: right;\n",
       "    }\n",
       "</style>\n",
       "<table border=\"1\" class=\"dataframe\">\n",
       "  <thead>\n",
       "    <tr style=\"text-align: right;\">\n",
       "      <th></th>\n",
       "      <th>Annual Income (k$)</th>\n",
       "      <th>Spending Score (1-100)</th>\n",
       "      <th>distance_from_1</th>\n",
       "      <th>distance_from_2</th>\n",
       "      <th>distance_from_3</th>\n",
       "      <th>distance_from_4</th>\n",
       "      <th>distance_from_5</th>\n",
       "      <th>closest</th>\n",
       "      <th>color</th>\n",
       "    </tr>\n",
       "  </thead>\n",
       "  <tbody>\n",
       "    <tr>\n",
       "      <th>0</th>\n",
       "      <td>15</td>\n",
       "      <td>39</td>\n",
       "      <td>29.026383</td>\n",
       "      <td>77.203935</td>\n",
       "      <td>41.646205</td>\n",
       "      <td>110.213713</td>\n",
       "      <td>121.655251</td>\n",
       "      <td>1</td>\n",
       "      <td>#3cb44b</td>\n",
       "    </tr>\n",
       "    <tr>\n",
       "      <th>1</th>\n",
       "      <td>15</td>\n",
       "      <td>81</td>\n",
       "      <td>52.062108</td>\n",
       "      <td>66.028637</td>\n",
       "      <td>13.226041</td>\n",
       "      <td>102.000306</td>\n",
       "      <td>135.070352</td>\n",
       "      <td>3</td>\n",
       "      <td>#4363d8</td>\n",
       "    </tr>\n",
       "    <tr>\n",
       "      <th>2</th>\n",
       "      <td>16</td>\n",
       "      <td>6</td>\n",
       "      <td>42.342294</td>\n",
       "      <td>97.786063</td>\n",
       "      <td>73.550736</td>\n",
       "      <td>125.652547</td>\n",
       "      <td>119.707978</td>\n",
       "      <td>1</td>\n",
       "      <td>#3cb44b</td>\n",
       "    </tr>\n",
       "    <tr>\n",
       "      <th>3</th>\n",
       "      <td>16</td>\n",
       "      <td>77</td>\n",
       "      <td>48.203369</td>\n",
       "      <td>65.032494</td>\n",
       "      <td>12.101649</td>\n",
       "      <td>101.069592</td>\n",
       "      <td>132.382023</td>\n",
       "      <td>3</td>\n",
       "      <td>#4363d8</td>\n",
       "    </tr>\n",
       "    <tr>\n",
       "      <th>4</th>\n",
       "      <td>17</td>\n",
       "      <td>40</td>\n",
       "      <td>27.092535</td>\n",
       "      <td>74.975572</td>\n",
       "      <td>40.103316</td>\n",
       "      <td>107.984084</td>\n",
       "      <td>119.854078</td>\n",
       "      <td>1</td>\n",
       "      <td>#3cb44b</td>\n",
       "    </tr>\n",
       "  </tbody>\n",
       "</table>\n",
       "</div>"
      ],
      "text/plain": [
       "   Annual Income (k$)  Spending Score (1-100)  distance_from_1  \\\n",
       "0                  15                      39        29.026383   \n",
       "1                  15                      81        52.062108   \n",
       "2                  16                       6        42.342294   \n",
       "3                  16                      77        48.203369   \n",
       "4                  17                      40        27.092535   \n",
       "\n",
       "   distance_from_2  distance_from_3  distance_from_4  distance_from_5  \\\n",
       "0        77.203935        41.646205       110.213713       121.655251   \n",
       "1        66.028637        13.226041       102.000306       135.070352   \n",
       "2        97.786063        73.550736       125.652547       119.707978   \n",
       "3        65.032494        12.101649       101.069592       132.382023   \n",
       "4        74.975572        40.103316       107.984084       119.854078   \n",
       "\n",
       "   closest    color  \n",
       "0        1  #3cb44b  \n",
       "1        3  #4363d8  \n",
       "2        1  #3cb44b  \n",
       "3        3  #4363d8  \n",
       "4        1  #3cb44b  "
      ]
     },
     "execution_count": 16,
     "metadata": {},
     "output_type": "execute_result"
    }
   ],
   "source": [
    "df.head()"
   ]
  },
  {
   "cell_type": "code",
   "execution_count": 17,
   "metadata": {},
   "outputs": [
    {
     "data": {
      "image/png": "[encoded data removed]",
      "text/plain": [
       "<Figure size 648x648 with 1 Axes>"
      ]
     },
     "metadata": {
      "needs_background": "light"
     },
     "output_type": "display_data"
    }
   ],
   "source": [
    "fig = plt.figure(figsize = (9,9))\n",
    "plt.scatter(df['Annual Income (k$)'],df['Spending Score (1-100)'],color = df['color'],alpha = 0.2,s =120)\n",
    "for i in centroids.keys():\n",
    "    plt.scatter(*centroids[i],color = cmap[i],s =250, label= 'Cluster'+str(i))\n",
    "plt.title('Clusters of customers')\n",
    "plt.grid()\n",
    "plt.legend()\n",
    "plt.xlabel('Annual Income (k$)')\n",
    "plt.ylabel('Spending Score (1-100)')\n",
    "plt.xlim(-14,190)\n",
    "plt.ylim(-10,140)\n",
    "plt.show()"
   ]
  }
 ],
 "metadata": {
  "colab": {
   "collapsed_sections": [],
   "name": "Datamining_lab.ipynb",
   "provenance": []
  },
  "kernelspec": {
   "display_name": "Python 3",
   "language": "python",
   "name": "python3"
  },
  "language_info": {
   "codemirror_mode": {
    "name": "ipython",
    "version": 3
   },
   "file_extension": ".py",
   "mimetype": "text/x-python",
   "name": "python",
   "nbconvert_exporter": "python",
   "pygments_lexer": "ipython3",
   "version": "3.6.7"
  }
 },
 "nbformat": 4,
 "nbformat_minor": 4
}
