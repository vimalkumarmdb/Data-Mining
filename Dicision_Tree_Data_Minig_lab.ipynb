{
  "nbformat": 4,
  "nbformat_minor": 0,
  "metadata": {
    "kernelspec": {
      "display_name": "Python 3",
      "language": "python",
      "name": "python3"
    },
    "language_info": {
      "codemirror_mode": {
        "name": "ipython",
        "version": 3
      },
      "file_extension": ".py",
      "mimetype": "text/x-python",
      "name": "python",
      "nbconvert_exporter": "python",
      "pygments_lexer": "ipython3",
      "version": "3.6.6"
    },
    "colab": {
      "name": "Dicision_Tree_Data_Minig_lab.ipynb",
      "version": "0.3.2",
      "provenance": []
    }
  },
  "cells": [
    {
      "cell_type": "markdown",
      "metadata": {
        "id": "pKUR2fA_MgU6",
        "colab_type": "text"
      },
      "source": [
        "# ============= The Decision From Scratch In Python ===========\n",
        "# =============             Data Mining             ===========================\n",
        "# =============             Lab - 1                 ===============================\n",
        "# =============     Date - 21/07/2019               ========================"
      ]
    },
    {
      "cell_type": "code",
      "metadata": {
        "id": "0Od37k5JMgU8",
        "colab_type": "code",
        "colab": {}
      },
      "source": [
        "import numpy as np\n",
        "import pandas as pd\n",
        "import matplotlib.pyplot as plt "
      ],
      "execution_count": 0,
      "outputs": []
    },
    {
      "cell_type": "code",
      "metadata": {
        "id": "ca9UlzXQMgVD",
        "colab_type": "code",
        "colab": {}
      },
      "source": [
        "from sklearn.datasets import load_iris"
      ],
      "execution_count": 0,
      "outputs": []
    },
    {
      "cell_type": "markdown",
      "metadata": {
        "id": "TsxO_tOZMgVI",
        "colab_type": "text"
      },
      "source": [
        "## Load Dataset"
      ]
    },
    {
      "cell_type": "code",
      "metadata": {
        "id": "LwDkI7vpMgVJ",
        "colab_type": "code",
        "colab": {}
      },
      "source": [
        "iris = load_iris()"
      ],
      "execution_count": 0,
      "outputs": []
    },
    {
      "cell_type": "code",
      "metadata": {
        "id": "B5kFG1GKMgVO",
        "colab_type": "code",
        "colab": {}
      },
      "source": [
        "independet_variable = iris.data\n",
        "dependent_variable  = iris.target"
      ],
      "execution_count": 0,
      "outputs": []
    },
    {
      "cell_type": "code",
      "metadata": {
        "id": "UT-qxdsgMgVT",
        "colab_type": "code",
        "colab": {}
      },
      "source": [
        "my_data = np.c_[independet_variable,dependent_variable]"
      ],
      "execution_count": 0,
      "outputs": []
    },
    {
      "cell_type": "code",
      "metadata": {
        "id": "-Mpq7ZGrMgVY",
        "colab_type": "code",
        "colab": {}
      },
      "source": [
        "columns=['sepal_length','sepal_width','petal_length','petal_width','species']\n",
        "header=columns"
      ],
      "execution_count": 0,
      "outputs": []
    },
    {
      "cell_type": "code",
      "metadata": {
        "id": "8Zi2DXaSMgVd",
        "colab_type": "code",
        "colab": {}
      },
      "source": [
        "iris_df = pd.DataFrame(data= my_data,columns= header)"
      ],
      "execution_count": 0,
      "outputs": []
    },
    {
      "cell_type": "markdown",
      "metadata": {
        "id": "lzkIcqLTMgVj",
        "colab_type": "text"
      },
      "source": [
        "## Head of the Data"
      ]
    },
    {
      "cell_type": "code",
      "metadata": {
        "id": "DDbIU1w0MgVl",
        "colab_type": "code",
        "outputId": "89f48858-e916-4043-f850-f9aab0d00b72",
        "colab": {
          "base_uri": "https://localhost:8080/",
          "height": 206
        }
      },
      "source": [
        "iris_df.head()"
      ],
      "execution_count": 8,
      "outputs": [
        {
          "output_type": "execute_result",
          "data": {
            "text/html": [
              "<div>\n",
              "<style scoped>\n",
              "    .dataframe tbody tr th:only-of-type {\n",
              "        vertical-align: middle;\n",
              "    }\n",
              "\n",
              "    .dataframe tbody tr th {\n",
              "        vertical-align: top;\n",
              "    }\n",
              "\n",
              "    .dataframe thead th {\n",
              "        text-align: right;\n",
              "    }\n",
              "</style>\n",
              "<table border=\"1\" class=\"dataframe\">\n",
              "  <thead>\n",
              "    <tr style=\"text-align: right;\">\n",
              "      <th></th>\n",
              "      <th>sepal_length</th>\n",
              "      <th>sepal_width</th>\n",
              "      <th>petal_length</th>\n",
              "      <th>petal_width</th>\n",
              "      <th>species</th>\n",
              "    </tr>\n",
              "  </thead>\n",
              "  <tbody>\n",
              "    <tr>\n",
              "      <th>0</th>\n",
              "      <td>5.1</td>\n",
              "      <td>3.5</td>\n",
              "      <td>1.4</td>\n",
              "      <td>0.2</td>\n",
              "      <td>0.0</td>\n",
              "    </tr>\n",
              "    <tr>\n",
              "      <th>1</th>\n",
              "      <td>4.9</td>\n",
              "      <td>3.0</td>\n",
              "      <td>1.4</td>\n",
              "      <td>0.2</td>\n",
              "      <td>0.0</td>\n",
              "    </tr>\n",
              "    <tr>\n",
              "      <th>2</th>\n",
              "      <td>4.7</td>\n",
              "      <td>3.2</td>\n",
              "      <td>1.3</td>\n",
              "      <td>0.2</td>\n",
              "      <td>0.0</td>\n",
              "    </tr>\n",
              "    <tr>\n",
              "      <th>3</th>\n",
              "      <td>4.6</td>\n",
              "      <td>3.1</td>\n",
              "      <td>1.5</td>\n",
              "      <td>0.2</td>\n",
              "      <td>0.0</td>\n",
              "    </tr>\n",
              "    <tr>\n",
              "      <th>4</th>\n",
              "      <td>5.0</td>\n",
              "      <td>3.6</td>\n",
              "      <td>1.4</td>\n",
              "      <td>0.2</td>\n",
              "      <td>0.0</td>\n",
              "    </tr>\n",
              "  </tbody>\n",
              "</table>\n",
              "</div>"
            ],
            "text/plain": [
              "   sepal_length  sepal_width  petal_length  petal_width  species\n",
              "0           5.1          3.5           1.4          0.2      0.0\n",
              "1           4.9          3.0           1.4          0.2      0.0\n",
              "2           4.7          3.2           1.3          0.2      0.0\n",
              "3           4.6          3.1           1.5          0.2      0.0\n",
              "4           5.0          3.6           1.4          0.2      0.0"
            ]
          },
          "metadata": {
            "tags": []
          },
          "execution_count": 8
        }
      ]
    },
    {
      "cell_type": "markdown",
      "metadata": {
        "id": "0zLv0uNZMgVr",
        "colab_type": "text"
      },
      "source": [
        "# Replace values 0,1,2 in species column with real names"
      ]
    },
    {
      "cell_type": "code",
      "metadata": {
        "id": "FhXzlly_MgVt",
        "colab_type": "code",
        "colab": {}
      },
      "source": [
        "iris_df.head()\n",
        "iris_df.species.replace(0.0,'iris-sesota',inplace=True)\n",
        "iris_df.species.replace(1.0,'iris-versicolor',inplace=True)\n",
        "iris_df.species.replace(2.0,'iris-virginica',inplace=True)"
      ],
      "execution_count": 0,
      "outputs": []
    },
    {
      "cell_type": "markdown",
      "metadata": {
        "id": "d7isKguzMgVy",
        "colab_type": "text"
      },
      "source": [
        "## After update head of Data"
      ]
    },
    {
      "cell_type": "code",
      "metadata": {
        "id": "KRsCQqFiMgV0",
        "colab_type": "code",
        "outputId": "beac16b6-9290-4026-871a-f7a98967e83b",
        "colab": {
          "base_uri": "https://localhost:8080/",
          "height": 206
        }
      },
      "source": [
        "iris_df.head()"
      ],
      "execution_count": 10,
      "outputs": [
        {
          "output_type": "execute_result",
          "data": {
            "text/html": [
              "<div>\n",
              "<style scoped>\n",
              "    .dataframe tbody tr th:only-of-type {\n",
              "        vertical-align: middle;\n",
              "    }\n",
              "\n",
              "    .dataframe tbody tr th {\n",
              "        vertical-align: top;\n",
              "    }\n",
              "\n",
              "    .dataframe thead th {\n",
              "        text-align: right;\n",
              "    }\n",
              "</style>\n",
              "<table border=\"1\" class=\"dataframe\">\n",
              "  <thead>\n",
              "    <tr style=\"text-align: right;\">\n",
              "      <th></th>\n",
              "      <th>sepal_length</th>\n",
              "      <th>sepal_width</th>\n",
              "      <th>petal_length</th>\n",
              "      <th>petal_width</th>\n",
              "      <th>species</th>\n",
              "    </tr>\n",
              "  </thead>\n",
              "  <tbody>\n",
              "    <tr>\n",
              "      <th>0</th>\n",
              "      <td>5.1</td>\n",
              "      <td>3.5</td>\n",
              "      <td>1.4</td>\n",
              "      <td>0.2</td>\n",
              "      <td>iris-sesota</td>\n",
              "    </tr>\n",
              "    <tr>\n",
              "      <th>1</th>\n",
              "      <td>4.9</td>\n",
              "      <td>3.0</td>\n",
              "      <td>1.4</td>\n",
              "      <td>0.2</td>\n",
              "      <td>iris-sesota</td>\n",
              "    </tr>\n",
              "    <tr>\n",
              "      <th>2</th>\n",
              "      <td>4.7</td>\n",
              "      <td>3.2</td>\n",
              "      <td>1.3</td>\n",
              "      <td>0.2</td>\n",
              "      <td>iris-sesota</td>\n",
              "    </tr>\n",
              "    <tr>\n",
              "      <th>3</th>\n",
              "      <td>4.6</td>\n",
              "      <td>3.1</td>\n",
              "      <td>1.5</td>\n",
              "      <td>0.2</td>\n",
              "      <td>iris-sesota</td>\n",
              "    </tr>\n",
              "    <tr>\n",
              "      <th>4</th>\n",
              "      <td>5.0</td>\n",
              "      <td>3.6</td>\n",
              "      <td>1.4</td>\n",
              "      <td>0.2</td>\n",
              "      <td>iris-sesota</td>\n",
              "    </tr>\n",
              "  </tbody>\n",
              "</table>\n",
              "</div>"
            ],
            "text/plain": [
              "   sepal_length  sepal_width  petal_length  petal_width      species\n",
              "0           5.1          3.5           1.4          0.2  iris-sesota\n",
              "1           4.9          3.0           1.4          0.2  iris-sesota\n",
              "2           4.7          3.2           1.3          0.2  iris-sesota\n",
              "3           4.6          3.1           1.5          0.2  iris-sesota\n",
              "4           5.0          3.6           1.4          0.2  iris-sesota"
            ]
          },
          "metadata": {
            "tags": []
          },
          "execution_count": 10
        }
      ]
    },
    {
      "cell_type": "markdown",
      "metadata": {
        "id": "GeTSCZXsMgV5",
        "colab_type": "text"
      },
      "source": [
        "## Show mising values."
      ]
    },
    {
      "cell_type": "code",
      "metadata": {
        "id": "8sVYHhItMgV7",
        "colab_type": "code",
        "outputId": "7427d6a0-f484-4d83-a881-1fa328386427",
        "colab": {
          "base_uri": "https://localhost:8080/",
          "height": 191
        }
      },
      "source": [
        "iris_df.info()"
      ],
      "execution_count": 11,
      "outputs": [
        {
          "output_type": "stream",
          "text": [
            "<class 'pandas.core.frame.DataFrame'>\n",
            "RangeIndex: 150 entries, 0 to 149\n",
            "Data columns (total 5 columns):\n",
            "sepal_length    150 non-null float64\n",
            "sepal_width     150 non-null float64\n",
            "petal_length    150 non-null float64\n",
            "petal_width     150 non-null float64\n",
            "species         150 non-null object\n",
            "dtypes: float64(4), object(1)\n",
            "memory usage: 5.9+ KB\n"
          ],
          "name": "stdout"
        }
      ]
    },
    {
      "cell_type": "code",
      "metadata": {
        "id": "nSfQtathMgV_",
        "colab_type": "code",
        "colab": {}
      },
      "source": [
        "import random"
      ],
      "execution_count": 0,
      "outputs": []
    },
    {
      "cell_type": "code",
      "metadata": {
        "id": "fv8OrUFpMgWG",
        "colab_type": "code",
        "colab": {}
      },
      "source": [
        "def train_test_split(iris_df , test_size):\n",
        "    if isinstance(test_size,float):\n",
        "        test_size = round(test_size*len(iris_df))\n",
        "    index = iris_df.index.tolist()\n",
        "    \n",
        "    test_index = random.sample(population= index, k = test_size)\n",
        "    test = iris_df.loc[test_index]\n",
        "    train = iris_df.drop(test_index)\n",
        "    \n",
        "    return train,test"
      ],
      "execution_count": 0,
      "outputs": []
    },
    {
      "cell_type": "markdown",
      "metadata": {
        "id": "s9RnMdguMgWN",
        "colab_type": "text"
      },
      "source": [
        "## fixed the location of train and test"
      ]
    },
    {
      "cell_type": "code",
      "metadata": {
        "id": "yVTHx-nCMgWO",
        "colab_type": "code",
        "colab": {}
      },
      "source": [
        "random.seed(0)"
      ],
      "execution_count": 0,
      "outputs": []
    },
    {
      "cell_type": "code",
      "metadata": {
        "id": "fwMK_5GKMgWT",
        "colab_type": "code",
        "colab": {}
      },
      "source": [
        "train_df, test_df = train_test_split(iris_df , test_size = 20)"
      ],
      "execution_count": 0,
      "outputs": []
    },
    {
      "cell_type": "code",
      "metadata": {
        "id": "Im7HMTv6MgWa",
        "colab_type": "code",
        "outputId": "ac287b72-a8f4-49bf-8713-4fd7c579e880",
        "colab": {
          "base_uri": "https://localhost:8080/",
          "height": 206
        }
      },
      "source": [
        "train_df.head()"
      ],
      "execution_count": 16,
      "outputs": [
        {
          "output_type": "execute_result",
          "data": {
            "text/html": [
              "<div>\n",
              "<style scoped>\n",
              "    .dataframe tbody tr th:only-of-type {\n",
              "        vertical-align: middle;\n",
              "    }\n",
              "\n",
              "    .dataframe tbody tr th {\n",
              "        vertical-align: top;\n",
              "    }\n",
              "\n",
              "    .dataframe thead th {\n",
              "        text-align: right;\n",
              "    }\n",
              "</style>\n",
              "<table border=\"1\" class=\"dataframe\">\n",
              "  <thead>\n",
              "    <tr style=\"text-align: right;\">\n",
              "      <th></th>\n",
              "      <th>sepal_length</th>\n",
              "      <th>sepal_width</th>\n",
              "      <th>petal_length</th>\n",
              "      <th>petal_width</th>\n",
              "      <th>species</th>\n",
              "    </tr>\n",
              "  </thead>\n",
              "  <tbody>\n",
              "    <tr>\n",
              "      <th>0</th>\n",
              "      <td>5.1</td>\n",
              "      <td>3.5</td>\n",
              "      <td>1.4</td>\n",
              "      <td>0.2</td>\n",
              "      <td>iris-sesota</td>\n",
              "    </tr>\n",
              "    <tr>\n",
              "      <th>1</th>\n",
              "      <td>4.9</td>\n",
              "      <td>3.0</td>\n",
              "      <td>1.4</td>\n",
              "      <td>0.2</td>\n",
              "      <td>iris-sesota</td>\n",
              "    </tr>\n",
              "    <tr>\n",
              "      <th>2</th>\n",
              "      <td>4.7</td>\n",
              "      <td>3.2</td>\n",
              "      <td>1.3</td>\n",
              "      <td>0.2</td>\n",
              "      <td>iris-sesota</td>\n",
              "    </tr>\n",
              "    <tr>\n",
              "      <th>3</th>\n",
              "      <td>4.6</td>\n",
              "      <td>3.1</td>\n",
              "      <td>1.5</td>\n",
              "      <td>0.2</td>\n",
              "      <td>iris-sesota</td>\n",
              "    </tr>\n",
              "    <tr>\n",
              "      <th>4</th>\n",
              "      <td>5.0</td>\n",
              "      <td>3.6</td>\n",
              "      <td>1.4</td>\n",
              "      <td>0.2</td>\n",
              "      <td>iris-sesota</td>\n",
              "    </tr>\n",
              "  </tbody>\n",
              "</table>\n",
              "</div>"
            ],
            "text/plain": [
              "   sepal_length  sepal_width  petal_length  petal_width      species\n",
              "0           5.1          3.5           1.4          0.2  iris-sesota\n",
              "1           4.9          3.0           1.4          0.2  iris-sesota\n",
              "2           4.7          3.2           1.3          0.2  iris-sesota\n",
              "3           4.6          3.1           1.5          0.2  iris-sesota\n",
              "4           5.0          3.6           1.4          0.2  iris-sesota"
            ]
          },
          "metadata": {
            "tags": []
          },
          "execution_count": 16
        }
      ]
    },
    {
      "cell_type": "code",
      "metadata": {
        "id": "yzKr0IxwMgWf",
        "colab_type": "code",
        "outputId": "94c0bb6b-20ac-403a-ec73-ae1668825432",
        "colab": {
          "base_uri": "https://localhost:8080/",
          "height": 206
        }
      },
      "source": [
        "test_df.head()"
      ],
      "execution_count": 17,
      "outputs": [
        {
          "output_type": "execute_result",
          "data": {
            "text/html": [
              "<div>\n",
              "<style scoped>\n",
              "    .dataframe tbody tr th:only-of-type {\n",
              "        vertical-align: middle;\n",
              "    }\n",
              "\n",
              "    .dataframe tbody tr th {\n",
              "        vertical-align: top;\n",
              "    }\n",
              "\n",
              "    .dataframe thead th {\n",
              "        text-align: right;\n",
              "    }\n",
              "</style>\n",
              "<table border=\"1\" class=\"dataframe\">\n",
              "  <thead>\n",
              "    <tr style=\"text-align: right;\">\n",
              "      <th></th>\n",
              "      <th>sepal_length</th>\n",
              "      <th>sepal_width</th>\n",
              "      <th>petal_length</th>\n",
              "      <th>petal_width</th>\n",
              "      <th>species</th>\n",
              "    </tr>\n",
              "  </thead>\n",
              "  <tbody>\n",
              "    <tr>\n",
              "      <th>98</th>\n",
              "      <td>5.1</td>\n",
              "      <td>2.5</td>\n",
              "      <td>3.0</td>\n",
              "      <td>1.1</td>\n",
              "      <td>iris-versicolor</td>\n",
              "    </tr>\n",
              "    <tr>\n",
              "      <th>107</th>\n",
              "      <td>7.3</td>\n",
              "      <td>2.9</td>\n",
              "      <td>6.3</td>\n",
              "      <td>1.8</td>\n",
              "      <td>iris-virginica</td>\n",
              "    </tr>\n",
              "    <tr>\n",
              "      <th>10</th>\n",
              "      <td>5.4</td>\n",
              "      <td>3.7</td>\n",
              "      <td>1.5</td>\n",
              "      <td>0.2</td>\n",
              "      <td>iris-sesota</td>\n",
              "    </tr>\n",
              "    <tr>\n",
              "      <th>66</th>\n",
              "      <td>5.6</td>\n",
              "      <td>3.0</td>\n",
              "      <td>4.5</td>\n",
              "      <td>1.5</td>\n",
              "      <td>iris-versicolor</td>\n",
              "    </tr>\n",
              "    <tr>\n",
              "      <th>130</th>\n",
              "      <td>7.4</td>\n",
              "      <td>2.8</td>\n",
              "      <td>6.1</td>\n",
              "      <td>1.9</td>\n",
              "      <td>iris-virginica</td>\n",
              "    </tr>\n",
              "  </tbody>\n",
              "</table>\n",
              "</div>"
            ],
            "text/plain": [
              "     sepal_length  sepal_width  petal_length  petal_width          species\n",
              "98            5.1          2.5           3.0          1.1  iris-versicolor\n",
              "107           7.3          2.9           6.3          1.8   iris-virginica\n",
              "10            5.4          3.7           1.5          0.2      iris-sesota\n",
              "66            5.6          3.0           4.5          1.5  iris-versicolor\n",
              "130           7.4          2.8           6.1          1.9   iris-virginica"
            ]
          },
          "metadata": {
            "tags": []
          },
          "execution_count": 17
        }
      ]
    },
    {
      "cell_type": "markdown",
      "metadata": {
        "id": "pFVeJ4tsMgWl",
        "colab_type": "text"
      },
      "source": [
        "## Check the classes ?"
      ]
    },
    {
      "cell_type": "code",
      "metadata": {
        "id": "dOYuV0oOMgWn",
        "colab_type": "code",
        "colab": {}
      },
      "source": [
        "def check_class(my_data):\n",
        "    labels_columns = my_data[:,-1]\n",
        "    unique_class = np.unique(labels_columns)\n",
        "    if len(unique_class) == 1:\n",
        "        return True\n",
        "    else:\n",
        "        return False"
      ],
      "execution_count": 0,
      "outputs": []
    },
    {
      "cell_type": "code",
      "metadata": {
        "id": "3DPjmWr5MgW_",
        "colab_type": "code",
        "colab": {}
      },
      "source": [
        "my_data = train_df.values"
      ],
      "execution_count": 0,
      "outputs": []
    },
    {
      "cell_type": "code",
      "metadata": {
        "id": "dhU5jp24MgXN",
        "colab_type": "code",
        "outputId": "f9769fa4-fcfd-415d-ee8f-bb264e9ef970",
        "colab": {
          "base_uri": "https://localhost:8080/",
          "height": 34
        }
      },
      "source": [
        "check_class(train_df[train_df.petal_width<0.8].values)"
      ],
      "execution_count": 20,
      "outputs": [
        {
          "output_type": "execute_result",
          "data": {
            "text/plain": [
              "True"
            ]
          },
          "metadata": {
            "tags": []
          },
          "execution_count": 20
        }
      ]
    },
    {
      "cell_type": "markdown",
      "metadata": {
        "id": "m6KgFmmWMgXZ",
        "colab_type": "text"
      },
      "source": [
        "## Classification"
      ]
    },
    {
      "cell_type": "code",
      "metadata": {
        "id": "IVOhx_pTMgXa",
        "colab_type": "code",
        "colab": {}
      },
      "source": [
        "def Classificaion(my_data):\n",
        "    labels_columns = my_data[:,-1]\n",
        "    unique_class , count_unique_class = np.unique(labels_columns, return_counts = True)\n",
        "    index = count_unique_class.argmax()\n",
        "    \n",
        "    classifcation = unique_class[index]\n",
        "    return classifcation\n"
      ],
      "execution_count": 0,
      "outputs": []
    },
    {
      "cell_type": "code",
      "metadata": {
        "id": "UXdBgW17MgXh",
        "colab_type": "code",
        "outputId": "12c0de71-2ea2-47f2-cc96-d605e6e4c93f",
        "colab": {
          "base_uri": "https://localhost:8080/",
          "height": 34
        }
      },
      "source": [
        "Classificaion(train_df[train_df.petal_width<0.8].values)"
      ],
      "execution_count": 22,
      "outputs": [
        {
          "output_type": "execute_result",
          "data": {
            "text/plain": [
              "'iris-sesota'"
            ]
          },
          "metadata": {
            "tags": []
          },
          "execution_count": 22
        }
      ]
    },
    {
      "cell_type": "code",
      "metadata": {
        "id": "Bm4C2pc1MgXp",
        "colab_type": "code",
        "colab": {}
      },
      "source": [
        "def get_new_split(my_data):\n",
        "    new_splits = {}\n",
        "    n_row,n_columns = my_data.shape\n",
        "    for column_index in range(n_columns -1):\n",
        "        new_splits[column_index] = []\n",
        "        values = my_data[:,column_index]\n",
        "        unique_values = np.unique(values)\n",
        "        \n",
        "        for index in range(len(unique_values)):\n",
        "            if index != 0:\n",
        "                current_value = unique_values[index]\n",
        "                previous_values = unique_values[index -1]\n",
        "                \n",
        "                new_split = (current_value+previous_values)/2\n",
        "                \n",
        "                new_splits[column_index].append(new_split)\n",
        "                \n",
        "    return new_splits"
      ],
      "execution_count": 0,
      "outputs": []
    },
    {
      "cell_type": "code",
      "metadata": {
        "id": "HJa5vGW8MgXx",
        "colab_type": "code",
        "colab": {}
      },
      "source": [
        "my_new_split=get_new_split(train_df.values)"
      ],
      "execution_count": 0,
      "outputs": []
    },
    {
      "cell_type": "code",
      "metadata": {
        "id": "9DevXFc0MgX1",
        "colab_type": "code",
        "colab": {}
      },
      "source": [
        "import seaborn as sns"
      ],
      "execution_count": 0,
      "outputs": []
    },
    {
      "cell_type": "code",
      "metadata": {
        "id": "Wrp7p7dsMgYB",
        "colab_type": "code",
        "outputId": "5ef2ef89-7cfe-403a-d968-b761a1a3801c",
        "colab": {
          "base_uri": "https://localhost:8080/",
          "height": 585
        }
      },
      "source": [
        "sns.lmplot(data = iris_df, x= \"petal_width\",y = \"petal_length\",fit_reg = False, height =8,\n",
        "          aspect= 1.5,hue =\"species\")\n",
        "plt.vlines(x = my_new_split[3], ymin = 1, ymax = 7 )\n",
        "plt.show()"
      ],
      "execution_count": 26,
      "outputs": [
        {
          "output_type": "display_data",
          "data": {
            "image/png": "[encoded data removed]",
            "text/plain": [
              "<Figure size 967.5x576 with 1 Axes>"
            ]
          },
          "metadata": {
            "tags": []
          }
        }
      ]
    },
    {
      "cell_type": "code",
      "metadata": {
        "id": "IZHqyzrLMgYF",
        "colab_type": "code",
        "outputId": "e83b104d-89f9-411b-d06e-0fe36e1fade6",
        "colab": {
          "base_uri": "https://localhost:8080/",
          "height": 585
        }
      },
      "source": [
        "sns.lmplot(data = iris_df, x= \"petal_width\",y = \"petal_length\",fit_reg = False, height = 8,\n",
        "          aspect= 1.5,hue =\"species\")\n",
        "plt.hlines(y= my_new_split[2], xmin = 0, xmax = 2.5 )\n",
        "plt.show()"
      ],
      "execution_count": 27,
      "outputs": [
        {
          "output_type": "display_data",
          "data": {
            "image/png": "[encoded data removed]",
            "text/plain": [
              "<Figure size 967.5x576 with 1 Axes>"
            ]
          },
          "metadata": {
            "tags": []
          }
        }
      ]
    },
    {
      "cell_type": "markdown",
      "metadata": {
        "id": "N1d3BX_CMgYT",
        "colab_type": "text"
      },
      "source": [
        "## Split data"
      ]
    },
    {
      "cell_type": "code",
      "metadata": {
        "id": "_iwKwkw-MgYV",
        "colab_type": "code",
        "colab": {}
      },
      "source": [
        "def split_my_data(my_data,split_column,split_values):\n",
        "    \n",
        "    split_column_values = my_data[:,split_column]\n",
        "    data_below = my_data[split_column_values <= split_values]\n",
        "    data_above = my_data[split_column_values > split_values]\n",
        "    \n",
        "    return data_below, data_above"
      ],
      "execution_count": 0,
      "outputs": []
    },
    {
      "cell_type": "code",
      "metadata": {
        "id": "hc8ZCYqlMgYo",
        "colab_type": "code",
        "colab": {}
      },
      "source": [
        "split_column = 3\n",
        "split_values = 0.8"
      ],
      "execution_count": 0,
      "outputs": []
    },
    {
      "cell_type": "code",
      "metadata": {
        "id": "8FFg3MAjMgZE",
        "colab_type": "code",
        "colab": {}
      },
      "source": [
        "data_below, data_above = split_my_data(my_data,split_column,split_values)"
      ],
      "execution_count": 0,
      "outputs": []
    },
    {
      "cell_type": "code",
      "metadata": {
        "id": "t77JcvPWMgZL",
        "colab_type": "code",
        "colab": {}
      },
      "source": [
        "plot_df = pd.DataFrame(my_data, columns = iris_df.columns)"
      ],
      "execution_count": 0,
      "outputs": []
    },
    {
      "cell_type": "code",
      "metadata": {
        "id": "C0Fx5yj8MgZS",
        "colab_type": "code",
        "outputId": "7a3e1589-6eb7-456e-c6db-60301cdd34f3",
        "colab": {
          "base_uri": "https://localhost:8080/",
          "height": 441
        }
      },
      "source": [
        "sns.lmplot(data = plot_df, x= \"petal_width\",y = \"petal_length\",\n",
        "          fit_reg = False, height = 6, aspect = 1.5,hue =\"species\")\n",
        "plt.vlines(x = split_values, ymin = 1, ymax = 7)\n",
        "plt.show()"
      ],
      "execution_count": 32,
      "outputs": [
        {
          "output_type": "display_data",
          "data": {
            "image/png": "[encoded data removed]",
            "text/plain": [
              "<Figure size 751.5x432 with 1 Axes>"
            ]
          },
          "metadata": {
            "tags": []
          }
        }
      ]
    },
    {
      "cell_type": "markdown",
      "metadata": {
        "id": "vkuPGcAgMgZX",
        "colab_type": "text"
      },
      "source": [
        "## Remaning class after data_below."
      ]
    },
    {
      "cell_type": "code",
      "metadata": {
        "id": "iTjQLqOhMgZZ",
        "colab_type": "code",
        "outputId": "41c36b00-c0f7-4138-bd87-f63698ce9db7",
        "colab": {
          "base_uri": "https://localhost:8080/",
          "height": 441
        }
      },
      "source": [
        "plot_df = pd.DataFrame(data_below, columns = iris_df.columns)\n",
        "sns.lmplot(data = plot_df, x= \"petal_width\",y = \"petal_length\",\n",
        "          fit_reg = False, height = 6, aspect = 1.5,hue =\"species\")\n",
        "plt.vlines(x = split_values, ymin = 1, ymax = 7)\n",
        "plt.show()"
      ],
      "execution_count": 33,
      "outputs": [
        {
          "output_type": "display_data",
          "data": {
            "image/png": "[encoded data removed]",
            "text/plain": [
              "<Figure size 735.375x432 with 1 Axes>"
            ]
          },
          "metadata": {
            "tags": []
          }
        }
      ]
    },
    {
      "cell_type": "markdown",
      "metadata": {
        "id": "FPqW6KO7MgZk",
        "colab_type": "text"
      },
      "source": [
        "## Remaning class after data_above"
      ]
    },
    {
      "cell_type": "code",
      "metadata": {
        "id": "5oQ-54fSMgZn",
        "colab_type": "code",
        "outputId": "199a9044-3126-4dbd-cdae-0f39f9501f0f",
        "colab": {
          "base_uri": "https://localhost:8080/",
          "height": 441
        }
      },
      "source": [
        "plot_df = pd.DataFrame(data_above, columns = iris_df.columns)\n",
        "sns.lmplot(data = plot_df, x= \"petal_width\",y = \"petal_length\",\n",
        "          fit_reg = False, height = 6, aspect = 1.5,hue =\"species\")\n",
        "plt.vlines(x = split_values, ymin = 1, ymax = 7)\n",
        "plt.show()"
      ],
      "execution_count": 34,
      "outputs": [
        {
          "output_type": "display_data",
          "data": {
            "image/png": "[encoded data removed]",
            "text/plain": [
              "<Figure size 751.5x432 with 1 Axes>"
            ]
          },
          "metadata": {
            "tags": []
          }
        }
      ]
    },
    {
      "cell_type": "code",
      "metadata": {
        "id": "2v6_tZIuMgZ2",
        "colab_type": "code",
        "colab": {}
      },
      "source": [
        "split_column = 3\n",
        "split_values = 0.8"
      ],
      "execution_count": 0,
      "outputs": []
    },
    {
      "cell_type": "code",
      "metadata": {
        "id": "b66NzDDIMgZ6",
        "colab_type": "code",
        "colab": {}
      },
      "source": [
        "data_below, data_above = split_my_data(my_data,split_column,split_values)"
      ],
      "execution_count": 0,
      "outputs": []
    },
    {
      "cell_type": "markdown",
      "metadata": {
        "id": "mQYt-hcTMgZ_",
        "colab_type": "text"
      },
      "source": [
        "## Entorpy"
      ]
    },
    {
      "cell_type": "code",
      "metadata": {
        "id": "ySONMIHOMgaC",
        "colab_type": "code",
        "colab": {}
      },
      "source": [
        "def calculate_entorpy(my_data):\n",
        "    \n",
        "    label_column = my_data[:,-1]\n",
        "    false,count = np.unique(label_column, return_counts = True)\n",
        "    probablities = count/count.sum()\n",
        "    \n",
        "    entropy = sum( probablities * -np.log2( probablities))\n",
        "    return entropy"
      ],
      "execution_count": 0,
      "outputs": []
    },
    {
      "cell_type": "code",
      "metadata": {
        "id": "k0pVC_4EMgaF",
        "colab_type": "code",
        "outputId": "58f2d280-6de3-46cf-af44-10fa56742829",
        "colab": {
          "base_uri": "https://localhost:8080/",
          "height": 34
        }
      },
      "source": [
        "calculate_entorpy(my_data)"
      ],
      "execution_count": 38,
      "outputs": [
        {
          "output_type": "execute_result",
          "data": {
            "text/plain": [
              "1.5836100169358511"
            ]
          },
          "metadata": {
            "tags": []
          },
          "execution_count": 38
        }
      ]
    },
    {
      "cell_type": "markdown",
      "metadata": {
        "id": "Dwitr_1JMgaJ",
        "colab_type": "text"
      },
      "source": [
        "## Full Entorpy"
      ]
    },
    {
      "cell_type": "code",
      "metadata": {
        "id": "BBvGrjZOMgaK",
        "colab_type": "code",
        "colab": {}
      },
      "source": [
        "def full_entorpy(data_below,data_above):\n",
        "    n_data_points = len(data_below) + len(data_above)\n",
        "    p_data_below = len(data_below)/n_data_points\n",
        "    p_data_above = len(data_above)/n_data_points\n",
        "    total_entorpy = (p_data_below*calculate_entorpy(data_below))+(p_data_above*calculate_entorpy(data_above))\n",
        "    return total_entorpy"
      ],
      "execution_count": 0,
      "outputs": []
    },
    {
      "cell_type": "code",
      "metadata": {
        "id": "UnHQYG9VMgaR",
        "colab_type": "code",
        "outputId": "1b681a16-ce8c-479e-c4cf-2edd8250b9fb",
        "colab": {
          "base_uri": "https://localhost:8080/",
          "height": 34
        }
      },
      "source": [
        "full_entorpy(data_below,data_above)"
      ],
      "execution_count": 40,
      "outputs": [
        {
          "output_type": "execute_result",
          "data": {
            "text/plain": [
              "0.6461538461538462"
            ]
          },
          "metadata": {
            "tags": []
          },
          "execution_count": 40
        }
      ]
    },
    {
      "cell_type": "code",
      "metadata": {
        "id": "gHHjUpikMgac",
        "colab_type": "code",
        "colab": {}
      },
      "source": [
        "def determine_best_splits(my_data, potential_split):\n",
        "    \n",
        "    overall_entorpy = 999\n",
        "    for column_index in potential_split:\n",
        "        for value in potential_split[column_index]:\n",
        "            data_below, data_above = split_my_data(my_data, split_column = column_index, split_values= value)\n",
        "            current_overall_entropy = full_entorpy(data_below,data_above)\n",
        "            \n",
        "            if current_overall_entropy < overall_entorpy:\n",
        "                overall_entropy = current_overall_entropy\n",
        "                best_split_column = column_index\n",
        "                best_split_values = value\n",
        "                \n",
        "    return best_split_column,best_split_values\n"
      ],
      "execution_count": 0,
      "outputs": []
    },
    {
      "cell_type": "code",
      "metadata": {
        "id": "qIDfOqjrMgam",
        "colab_type": "code",
        "colab": {}
      },
      "source": [
        "potential_split= get_new_split(my_data)"
      ],
      "execution_count": 0,
      "outputs": []
    },
    {
      "cell_type": "code",
      "metadata": {
        "id": "Mez6JG_xMgas",
        "colab_type": "code",
        "outputId": "c4e39ff6-9499-4aba-c6fd-35084214b46c",
        "colab": {
          "base_uri": "https://localhost:8080/",
          "height": 34
        }
      },
      "source": [
        "determine_best_splits(my_data, potential_split)"
      ],
      "execution_count": 43,
      "outputs": [
        {
          "output_type": "execute_result",
          "data": {
            "text/plain": [
              "(3, 2.45)"
            ]
          },
          "metadata": {
            "tags": []
          },
          "execution_count": 43
        }
      ]
    },
    {
      "cell_type": "markdown",
      "metadata": {
        "id": "3sndr9ULMga2",
        "colab_type": "text"
      },
      "source": [
        "## Decision Tree Algo"
      ]
    },
    {
      "cell_type": "markdown",
      "metadata": {
        "id": "8YMb-ci4Mga4",
        "colab_type": "text"
      },
      "source": [
        "### Representation of the Decission Tree"
      ]
    },
    {
      "cell_type": "code",
      "metadata": {
        "id": "tlel9W61Mga6",
        "colab_type": "code",
        "colab": {}
      },
      "source": [
        "example_tree = {\"petal_width<=0.8\": [\"Iris-setosa\",{\"petal_width<= 1.65\":\n",
        "                                                   [{\"petal_length<= 4.9\":[\"Iris-versicolor\",\"Iris-virginica\"]},\n",
        "                                                   \"Iris-virginica\"]}]}"
      ],
      "execution_count": 0,
      "outputs": []
    },
    {
      "cell_type": "markdown",
      "metadata": {
        "id": "Ia7hCiDuMgbC",
        "colab_type": "text"
      },
      "source": [
        "#### sub_tree = {question : [yes_answer, no_answer]} "
      ]
    },
    {
      "cell_type": "code",
      "metadata": {
        "id": "eQvb1S-xMgbe",
        "colab_type": "code",
        "colab": {}
      },
      "source": [
        "def decision_tree_algorithm(iris_df,counter = 0,min_sample = 2):\n",
        "    \n",
        "    if counter == 0:\n",
        "        global CULUMN_HEADERS\n",
        "        CULUMN_HEADERS = iris_df.columns\n",
        "        data = iris_df.values\n",
        "    else:\n",
        "        data = iris_df\n",
        "    # base case\n",
        "    \n",
        "    if (check_class(data)) or (len(iris_df)<min_sample):\n",
        "        classification = Classificaion(my_data)\n",
        "        return classification\n",
        "    #  recursion part\n",
        "    \n",
        "    else:\n",
        "        counter += 1\n",
        "        \n",
        "        potential_split = get_new_split(data)\n",
        "        \n",
        "        split_column, split_value = determine_best_splits(data, potential_split)\n",
        "        \n",
        "        data_below, data_above = split_my_data(data, split_column,split_value)\n",
        "        \n",
        "        # sub-tree\n",
        "        feature_name = CULUMN_HEADERS[split_column]\n",
        "        question = \"{} <= {}\".format(feature_name,split_value)\n",
        "        \n",
        "        sub_tree = {question:[]}\n",
        "        \n",
        "        # find answer (recuression)\n",
        "        \n",
        "        yes_answer = decision_tree_algorithm(data_below, counter)\n",
        "        no_answer = decision_tree_algorithm(data_above, counter)\n",
        "        \n",
        "       \n",
        "        \n",
        "        sub_tree[question].append(yes_answer)\n",
        "        sub_tree[question].append(no_answer)\n",
        "        \n",
        "        return sub_tree\n",
        "        "
      ],
      "execution_count": 0,
      "outputs": []
    },
    {
      "cell_type": "code",
      "metadata": {
        "id": "JD-SR58jMgbj",
        "colab_type": "code",
        "colab": {}
      },
      "source": [
        "tree = decision_tree_algorithm(train_df,min_sample = 3)"
      ],
      "execution_count": 0,
      "outputs": []
    },
    {
      "cell_type": "code",
      "metadata": {
        "id": "1MRmoTSAMgbr",
        "colab_type": "code",
        "outputId": "f802f26c-55a9-41a3-b498-3e9d13861f30",
        "colab": {
          "base_uri": "https://localhost:8080/",
          "height": 471
        }
      },
      "source": [
        "tree"
      ],
      "execution_count": 47,
      "outputs": [
        {
          "output_type": "execute_result",
          "data": {
            "text/plain": [
              "{'petal_width <= 2.45': [{'petal_width <= 2.3499999999999996': [{'petal_width <= 2.25': [{'petal_width <= 2.1500000000000004': [{'petal_width <= 2.05': [{'petal_width <= 1.95': [{'petal_width <= 1.85': [{'petal_width <= 1.75': [{'petal_width <= 1.65': [{'petal_width <= 1.55': [{'petal_width <= 1.45': [{'petal_width <= 1.35': [{'petal_width <= 1.25': [{'petal_width <= 1.15': [{'petal_width <= 1.05': [{'petal_width <= 0.8': ['iris-sesota',\n",
              "                                'iris-sesota']},\n",
              "                              'iris-sesota']},\n",
              "                            'iris-sesota']},\n",
              "                          'iris-sesota']},\n",
              "                        {'petal_length <= 5.199999999999999': ['iris-sesota',\n",
              "                          'iris-sesota']}]},\n",
              "                      {'petal_length <= 5.05': [{'petal_length <= 4.95': ['iris-sesota',\n",
              "                          'iris-sesota']},\n",
              "                        'iris-sesota']}]},\n",
              "                    'iris-sesota']},\n",
              "                  'iris-sesota']},\n",
              "                {'petal_length <= 5.9': [{'petal_length <= 5.65': [{'petal_length <= 5.2': [{'petal_length <= 4.85': [{'sepal_width <= 3.1': ['iris-sesota',\n",
              "                          'iris-sesota']},\n",
              "                        'iris-sesota']},\n",
              "                      'iris-sesota']},\n",
              "                    'iris-sesota']},\n",
              "                  'iris-sesota']}]},\n",
              "              'iris-sesota']},\n",
              "            'iris-sesota']},\n",
              "          'iris-sesota']},\n",
              "        'iris-sesota']},\n",
              "      'iris-sesota']},\n",
              "    'iris-sesota']},\n",
              "  'iris-sesota']}"
            ]
          },
          "metadata": {
            "tags": []
          },
          "execution_count": 47
        }
      ]
    },
    {
      "cell_type": "code",
      "metadata": {
        "id": "hXuElgARMgbu",
        "colab_type": "code",
        "colab": {}
      },
      "source": [
        "example = test_df.iloc[1]"
      ],
      "execution_count": 0,
      "outputs": []
    },
    {
      "cell_type": "code",
      "metadata": {
        "id": "fhu8nh8zMgby",
        "colab_type": "code",
        "outputId": "e183cf65-5469-4ee1-9047-f13599a96b70",
        "colab": {
          "base_uri": "https://localhost:8080/",
          "height": 121
        }
      },
      "source": [
        "example"
      ],
      "execution_count": 49,
      "outputs": [
        {
          "output_type": "execute_result",
          "data": {
            "text/plain": [
              "sepal_length               7.3\n",
              "sepal_width                2.9\n",
              "petal_length               6.3\n",
              "petal_width                1.8\n",
              "species         iris-virginica\n",
              "Name: 107, dtype: object"
            ]
          },
          "metadata": {
            "tags": []
          },
          "execution_count": 49
        }
      ]
    },
    {
      "cell_type": "code",
      "metadata": {
        "id": "qCZNmqDMMgb3",
        "colab_type": "code",
        "colab": {}
      },
      "source": [
        "def classify_example(example,tree):\n",
        "    question = list(tree.keys())[0]\n",
        "    feature_name,comparision_operator , value = question.split()\n",
        "    \n",
        "    if example[feature_name] < float(value):\n",
        "        answer = tree[question][0]\n",
        "    else:\n",
        "        answer = tree[question][1]\n",
        "    if not isinstance(answer,dict):\n",
        "        return answer\n",
        "    else:\n",
        "        residual_tree = answer\n",
        "        return classify_example(example,residual_tree)"
      ],
      "execution_count": 0,
      "outputs": []
    },
    {
      "cell_type": "code",
      "metadata": {
        "id": "jOkN65j6Mgb8",
        "colab_type": "code",
        "outputId": "068847e8-025e-4f5c-c7dd-dfc7f96bd669",
        "colab": {
          "base_uri": "https://localhost:8080/",
          "height": 34
        }
      },
      "source": [
        " classify_example(example,tree)"
      ],
      "execution_count": 51,
      "outputs": [
        {
          "output_type": "execute_result",
          "data": {
            "text/plain": [
              "'iris-sesota'"
            ]
          },
          "metadata": {
            "tags": []
          },
          "execution_count": 51
        }
      ]
    },
    {
      "cell_type": "code",
      "metadata": {
        "id": "jhe-_dokMgcB",
        "colab_type": "code",
        "colab": {}
      },
      "source": [
        "def calculate_acuracy(df,tree):\n",
        "    df[\"classification\"] = df.apply( classify_example,axis = 1, args=(tree,))\n",
        "    df[\"classification_correct\"] = df.classification == df.species\n",
        "    accuracy = df.classification_correct.mean()\n",
        "    return accuracy"
      ],
      "execution_count": 0,
      "outputs": []
    },
    {
      "cell_type": "code",
      "metadata": {
        "id": "0nIRqp0zMgcH",
        "colab_type": "code",
        "outputId": "81c3c678-204b-47e0-f283-28303532d285",
        "colab": {
          "base_uri": "https://localhost:8080/",
          "height": 34
        }
      },
      "source": [
        "calculate_acuracy(test_df,tree)"
      ],
      "execution_count": 53,
      "outputs": [
        {
          "output_type": "execute_result",
          "data": {
            "text/plain": [
              "0.2"
            ]
          },
          "metadata": {
            "tags": []
          },
          "execution_count": 53
        }
      ]
    },
    {
      "cell_type": "code",
      "metadata": {
        "id": "HkdQlojZMgcK",
        "colab_type": "code",
        "outputId": "de4cb0e0-2704-454e-b18d-cae1ef548590",
        "colab": {
          "base_uri": "https://localhost:8080/",
          "height": 677
        }
      },
      "source": [
        "test_df"
      ],
      "execution_count": 54,
      "outputs": [
        {
          "output_type": "execute_result",
          "data": {
            "text/html": [
              "<div>\n",
              "<style scoped>\n",
              "    .dataframe tbody tr th:only-of-type {\n",
              "        vertical-align: middle;\n",
              "    }\n",
              "\n",
              "    .dataframe tbody tr th {\n",
              "        vertical-align: top;\n",
              "    }\n",
              "\n",
              "    .dataframe thead th {\n",
              "        text-align: right;\n",
              "    }\n",
              "</style>\n",
              "<table border=\"1\" class=\"dataframe\">\n",
              "  <thead>\n",
              "    <tr style=\"text-align: right;\">\n",
              "      <th></th>\n",
              "      <th>sepal_length</th>\n",
              "      <th>sepal_width</th>\n",
              "      <th>petal_length</th>\n",
              "      <th>petal_width</th>\n",
              "      <th>species</th>\n",
              "      <th>classification</th>\n",
              "      <th>classification_correct</th>\n",
              "    </tr>\n",
              "  </thead>\n",
              "  <tbody>\n",
              "    <tr>\n",
              "      <th>98</th>\n",
              "      <td>5.1</td>\n",
              "      <td>2.5</td>\n",
              "      <td>3.0</td>\n",
              "      <td>1.1</td>\n",
              "      <td>iris-versicolor</td>\n",
              "      <td>iris-sesota</td>\n",
              "      <td>False</td>\n",
              "    </tr>\n",
              "    <tr>\n",
              "      <th>107</th>\n",
              "      <td>7.3</td>\n",
              "      <td>2.9</td>\n",
              "      <td>6.3</td>\n",
              "      <td>1.8</td>\n",
              "      <td>iris-virginica</td>\n",
              "      <td>iris-sesota</td>\n",
              "      <td>False</td>\n",
              "    </tr>\n",
              "    <tr>\n",
              "      <th>10</th>\n",
              "      <td>5.4</td>\n",
              "      <td>3.7</td>\n",
              "      <td>1.5</td>\n",
              "      <td>0.2</td>\n",
              "      <td>iris-sesota</td>\n",
              "      <td>iris-sesota</td>\n",
              "      <td>True</td>\n",
              "    </tr>\n",
              "    <tr>\n",
              "      <th>66</th>\n",
              "      <td>5.6</td>\n",
              "      <td>3.0</td>\n",
              "      <td>4.5</td>\n",
              "      <td>1.5</td>\n",
              "      <td>iris-versicolor</td>\n",
              "      <td>iris-sesota</td>\n",
              "      <td>False</td>\n",
              "    </tr>\n",
              "    <tr>\n",
              "      <th>130</th>\n",
              "      <td>7.4</td>\n",
              "      <td>2.8</td>\n",
              "      <td>6.1</td>\n",
              "      <td>1.9</td>\n",
              "      <td>iris-virginica</td>\n",
              "      <td>iris-sesota</td>\n",
              "      <td>False</td>\n",
              "    </tr>\n",
              "    <tr>\n",
              "      <th>124</th>\n",
              "      <td>6.7</td>\n",
              "      <td>3.3</td>\n",
              "      <td>5.7</td>\n",
              "      <td>2.1</td>\n",
              "      <td>iris-virginica</td>\n",
              "      <td>iris-sesota</td>\n",
              "      <td>False</td>\n",
              "    </tr>\n",
              "    <tr>\n",
              "      <th>103</th>\n",
              "      <td>6.3</td>\n",
              "      <td>2.9</td>\n",
              "      <td>5.6</td>\n",
              "      <td>1.8</td>\n",
              "      <td>iris-virginica</td>\n",
              "      <td>iris-sesota</td>\n",
              "      <td>False</td>\n",
              "    </tr>\n",
              "    <tr>\n",
              "      <th>77</th>\n",
              "      <td>6.7</td>\n",
              "      <td>3.0</td>\n",
              "      <td>5.0</td>\n",
              "      <td>1.7</td>\n",
              "      <td>iris-versicolor</td>\n",
              "      <td>iris-sesota</td>\n",
              "      <td>False</td>\n",
              "    </tr>\n",
              "    <tr>\n",
              "      <th>122</th>\n",
              "      <td>7.7</td>\n",
              "      <td>2.8</td>\n",
              "      <td>6.7</td>\n",
              "      <td>2.0</td>\n",
              "      <td>iris-virginica</td>\n",
              "      <td>iris-sesota</td>\n",
              "      <td>False</td>\n",
              "    </tr>\n",
              "    <tr>\n",
              "      <th>91</th>\n",
              "      <td>6.1</td>\n",
              "      <td>3.0</td>\n",
              "      <td>4.6</td>\n",
              "      <td>1.4</td>\n",
              "      <td>iris-versicolor</td>\n",
              "      <td>iris-sesota</td>\n",
              "      <td>False</td>\n",
              "    </tr>\n",
              "    <tr>\n",
              "      <th>149</th>\n",
              "      <td>5.9</td>\n",
              "      <td>3.0</td>\n",
              "      <td>5.1</td>\n",
              "      <td>1.8</td>\n",
              "      <td>iris-virginica</td>\n",
              "      <td>iris-sesota</td>\n",
              "      <td>False</td>\n",
              "    </tr>\n",
              "    <tr>\n",
              "      <th>55</th>\n",
              "      <td>5.7</td>\n",
              "      <td>2.8</td>\n",
              "      <td>4.5</td>\n",
              "      <td>1.3</td>\n",
              "      <td>iris-versicolor</td>\n",
              "      <td>iris-sesota</td>\n",
              "      <td>False</td>\n",
              "    </tr>\n",
              "    <tr>\n",
              "      <th>129</th>\n",
              "      <td>7.2</td>\n",
              "      <td>3.0</td>\n",
              "      <td>5.8</td>\n",
              "      <td>1.6</td>\n",
              "      <td>iris-virginica</td>\n",
              "      <td>iris-sesota</td>\n",
              "      <td>False</td>\n",
              "    </tr>\n",
              "    <tr>\n",
              "      <th>35</th>\n",
              "      <td>5.0</td>\n",
              "      <td>3.2</td>\n",
              "      <td>1.2</td>\n",
              "      <td>0.2</td>\n",
              "      <td>iris-sesota</td>\n",
              "      <td>iris-sesota</td>\n",
              "      <td>True</td>\n",
              "    </tr>\n",
              "    <tr>\n",
              "      <th>72</th>\n",
              "      <td>6.3</td>\n",
              "      <td>2.5</td>\n",
              "      <td>4.9</td>\n",
              "      <td>1.5</td>\n",
              "      <td>iris-versicolor</td>\n",
              "      <td>iris-sesota</td>\n",
              "      <td>False</td>\n",
              "    </tr>\n",
              "    <tr>\n",
              "      <th>24</th>\n",
              "      <td>4.8</td>\n",
              "      <td>3.4</td>\n",
              "      <td>1.9</td>\n",
              "      <td>0.2</td>\n",
              "      <td>iris-sesota</td>\n",
              "      <td>iris-sesota</td>\n",
              "      <td>True</td>\n",
              "    </tr>\n",
              "    <tr>\n",
              "      <th>64</th>\n",
              "      <td>5.6</td>\n",
              "      <td>2.9</td>\n",
              "      <td>3.6</td>\n",
              "      <td>1.3</td>\n",
              "      <td>iris-versicolor</td>\n",
              "      <td>iris-sesota</td>\n",
              "      <td>False</td>\n",
              "    </tr>\n",
              "    <tr>\n",
              "      <th>136</th>\n",
              "      <td>6.3</td>\n",
              "      <td>3.4</td>\n",
              "      <td>5.6</td>\n",
              "      <td>2.4</td>\n",
              "      <td>iris-virginica</td>\n",
              "      <td>iris-sesota</td>\n",
              "      <td>False</td>\n",
              "    </tr>\n",
              "    <tr>\n",
              "      <th>37</th>\n",
              "      <td>4.9</td>\n",
              "      <td>3.6</td>\n",
              "      <td>1.4</td>\n",
              "      <td>0.1</td>\n",
              "      <td>iris-sesota</td>\n",
              "      <td>iris-sesota</td>\n",
              "      <td>True</td>\n",
              "    </tr>\n",
              "    <tr>\n",
              "      <th>79</th>\n",
              "      <td>5.7</td>\n",
              "      <td>2.6</td>\n",
              "      <td>3.5</td>\n",
              "      <td>1.0</td>\n",
              "      <td>iris-versicolor</td>\n",
              "      <td>iris-sesota</td>\n",
              "      <td>False</td>\n",
              "    </tr>\n",
              "  </tbody>\n",
              "</table>\n",
              "</div>"
            ],
            "text/plain": [
              "     sepal_length  sepal_width  ...  classification  classification_correct\n",
              "98            5.1          2.5  ...     iris-sesota                   False\n",
              "107           7.3          2.9  ...     iris-sesota                   False\n",
              "10            5.4          3.7  ...     iris-sesota                    True\n",
              "66            5.6          3.0  ...     iris-sesota                   False\n",
              "130           7.4          2.8  ...     iris-sesota                   False\n",
              "124           6.7          3.3  ...     iris-sesota                   False\n",
              "103           6.3          2.9  ...     iris-sesota                   False\n",
              "77            6.7          3.0  ...     iris-sesota                   False\n",
              "122           7.7          2.8  ...     iris-sesota                   False\n",
              "91            6.1          3.0  ...     iris-sesota                   False\n",
              "149           5.9          3.0  ...     iris-sesota                   False\n",
              "55            5.7          2.8  ...     iris-sesota                   False\n",
              "129           7.2          3.0  ...     iris-sesota                   False\n",
              "35            5.0          3.2  ...     iris-sesota                    True\n",
              "72            6.3          2.5  ...     iris-sesota                   False\n",
              "24            4.8          3.4  ...     iris-sesota                    True\n",
              "64            5.6          2.9  ...     iris-sesota                   False\n",
              "136           6.3          3.4  ...     iris-sesota                   False\n",
              "37            4.9          3.6  ...     iris-sesota                    True\n",
              "79            5.7          2.6  ...     iris-sesota                   False\n",
              "\n",
              "[20 rows x 7 columns]"
            ]
          },
          "metadata": {
            "tags": []
          },
          "execution_count": 54
        }
      ]
    },
    {
      "cell_type": "code",
      "metadata": {
        "id": "-leCxRk-TZ8M",
        "colab_type": "code",
        "colab": {}
      },
      "source": [
        ""
      ],
      "execution_count": 0,
      "outputs": []
    }
  ]
}